{
 "cells": [
  {
   "cell_type": "markdown",
   "metadata": {},
   "source": [
    "# Domestication - User Notebook\n",
    "\n",
    "In this notebook you can enter your own data to calculate primers.\n",
    "\n",
    "## Setting up R"
   ]
  },
  {
   "cell_type": "code",
   "execution_count": 1,
   "metadata": {
    "scrolled": true
   },
   "outputs": [],
   "source": [
    "suppressWarnings(suppressMessages(library(\"GoldenMutagenesis\")))"
   ]
  },
  {
   "cell_type": "markdown",
   "metadata": {},
   "source": [
    "## Setting up your data & parameters\n",
    "Please modify this section according to your data.\n",
    "### Input Sequence"
   ]
  },
  {
   "cell_type": "markdown",
   "metadata": {},
   "source": [
    "#### Available Codon Usage Tables"
   ]
  },
  {
   "cell_type": "code",
   "execution_count": 2,
   "metadata": {},
   "outputs": [
    {
     "data": {
      "text/html": [
       "<ol class=list-inline>\n",
       "\t<li>'arabidopsis.csv'</li>\n",
       "\t<li>'e_coli_316407.csv'</li>\n",
       "\t<li>'s_cerevisiae_4932.csv'</li>\n",
       "</ol>\n"
      ],
      "text/latex": [
       "\\begin{enumerate*}\n",
       "\\item 'arabidopsis.csv'\n",
       "\\item 'e\\_coli\\_316407.csv'\n",
       "\\item 's\\_cerevisiae\\_4932.csv'\n",
       "\\end{enumerate*}\n"
      ],
      "text/markdown": [
       "1. 'arabidopsis.csv'\n",
       "2. 'e_coli_316407.csv'\n",
       "3. 's_cerevisiae_4932.csv'\n",
       "\n",
       "\n"
      ],
      "text/plain": [
       "[1] \"arabidopsis.csv\"       \"e_coli_316407.csv\"     \"s_cerevisiae_4932.csv\""
      ]
     },
     "metadata": {},
     "output_type": "display_data"
    }
   ],
   "source": [
    "list_cu_table()"
   ]
  },
  {
   "cell_type": "code",
   "execution_count": 3,
   "metadata": {},
   "outputs": [],
   "source": [
    "input_sequence<-\"atggtgagcaagggcgaggaggataacatggccatcatcaaggagttcatgcgcttcaaggtgcacatggagggctccgtgaacggccacgagttcgagatcgagggcgagggcgagggccgcccctacgagggcacccagaccgccaagctgaaggtgaccaagggtggccccctgcccttcgcctgggacatcctgtcccctcagttcatgtacggctccaaggcctacgtgaagcaccccgccgacatccccgactacttgaagctgtccttccccgagggcttcaagtgggagcgcgtgatgaacttcgaggacggcggcgtggtgaccgtgacccaggactcctccctgcaggacggcgagttcatctacaaggtgaagctgcgcggcaccaacttcccctccgacggccccgtaatgcagaagaagacgatgggctgggaggcctcctccgagcggatgtaccccgaggacggcgccctgaagggcgagatcaagcagaggctgaagctgaaggacggcggccactacgacgctgaggtcaagaccacctacaaggccaagaagcccgtgcagctgcccggcgcctacaacgtcaacatcaagttggacatcacctcccacaacgaggactacaccatcgtggaacagtacgaacgcgccgagggccgccactccaccggcggcatggacgagctgtacaaggtcgacaagcttgcggccgcactcgagtga\""
   ]
  },
  {
   "cell_type": "markdown",
   "metadata": {},
   "source": [
    "### Recognition sites"
   ]
  },
  {
   "cell_type": "code",
   "execution_count": 4,
   "metadata": {},
   "outputs": [],
   "source": [
    "cuf<-\"e_coli_316407.csv\" #The Codon Usage Table which is used in the calculations\n",
    "recognition_site_bbsi<-\"GAAGAC\"\n",
    "recognition_site_bsai<-\"GGTCTC\""
   ]
  },
  {
   "cell_type": "markdown",
   "metadata": {},
   "source": [
    "### Further Parameters"
   ]
  },
  {
   "cell_type": "code",
   "execution_count": 5,
   "metadata": {},
   "outputs": [],
   "source": [
    "############################\n",
    "#####Parameters#####\n",
    "###########################\n",
    "\n",
    "#If you do not know how to set those parameters, just take the default value\n",
    "recognition_site<-recognition_site_bbsi #Recognition site sequence of the respective restriction enzyme\n",
    "prefix=\"TT\" #Spacer nucleotides matching the cleavage pattern of the enzyme\n",
    "suffix=\"AA\" #Spacer nucleotides matching the cleavage pattern of the enzyme\n",
    "vector=c(\"CTCA\", \"CTCG\") #Four basepair overhangs complementary to the created overhangs in the acceptor vector\n",
    "replacement_range=5 #Maximum distance between two randomization sites to be incoporated into a single primer in amino acid residues\n",
    "binding_min_length=4 #The minimal threshold value of the template binding sequence in amino acid residues\n",
    "primer_length=9 #Maximal length of the binding sequence\n",
    "target_temp=60 #Melting temperature of the binding sequence in °C\n"
   ]
  },
  {
   "cell_type": "markdown",
   "metadata": {},
   "source": [
    "## Running the calculation\n",
    "This chunk will create the output with the necessary primerset for you. "
   ]
  },
  {
   "cell_type": "markdown",
   "metadata": {},
   "source": [
    "### Domestication\n",
    "This cell will calculate the primers for the domestication. Those are singe point mutations."
   ]
  },
  {
   "cell_type": "code",
   "execution_count": 6,
   "metadata": {},
   "outputs": [
    {
     "name": "stdout",
     "output_type": "stream",
     "text": [
      "[1] \"No domestication needed.\"\n"
     ]
    },
    {
     "data": {
      "text/html": [
       "<ol>\n",
       "\t<li><ol class=list-inline>\n",
       "\t<li>'143'</li>\n",
       "\t<li>'K'</li>\n",
       "</ol>\n",
       "</li>\n",
       "</ol>\n"
      ],
      "text/latex": [
       "\\begin{enumerate}\n",
       "\\item \\begin{enumerate*}\n",
       "\\item '143'\n",
       "\\item 'K'\n",
       "\\end{enumerate*}\n",
       "\n",
       "\\end{enumerate}\n"
      ],
      "text/markdown": [
       "1. 1. '143'\n",
       "2. 'K'\n",
       "\n",
       "\n",
       "\n",
       "\n",
       "\n"
      ],
      "text/plain": [
       "[[1]]\n",
       "[1] \"143\" \"K\"  \n"
      ]
     },
     "metadata": {},
     "output_type": "display_data"
    }
   ],
   "source": [
    "mutations_bbsi<-domesticate(input_sequence, recognition_site_bbsi, cuf)\n",
    "mutations_bsai<-domesticate(input_sequence, recognition_site_bsai, cuf)\n",
    "mutations<-c(mutations_bbsi, mutations_bsai)\n",
    "mutations"
   ]
  },
  {
   "cell_type": "markdown",
   "metadata": {},
   "source": [
    "### Primer calculation\n",
    "This cell will calculate the primers for the Single Point Mutagenesis."
   ]
  },
  {
   "cell_type": "code",
   "execution_count": 7,
   "metadata": {},
   "outputs": [
    {
     "name": "stdout",
     "output_type": "stream",
     "text": [
      "Fragment 1\n",
      "Forward\n",
      "TTGAAGACAACTCAATGGTGAGCAAGGGCGAGGAGG\n",
      "Temperature of binding site:  60.67248  °C \n",
      "Temperature difference:  0.6724812  K \n",
      "Reverse\n",
      "TTGAAGACAATTTCTGCATTACGGGGCCGTCGGAG\n",
      "Temperature of binding site:  60.45923  °C \n",
      "Temperature difference:  0.2132559  K \n",
      "\n",
      "Fragment 2\n",
      "Forward\n",
      "TTGAAGACAAGAAAAAGACGATGGGCTGGGAGGCC\n",
      "Temperature of binding site:  59.2929  °C \n",
      "Temperature difference:  0.7071014  K \n",
      "Reverse\n",
      "TTGAAGACAACTCGTCACTCGAGTGCGGCCGC\n",
      "Temperature of binding site:  59.15354  °C \n",
      "Temperature difference:  0.1393632  K \n",
      "\n",
      "Input Sequence:\n",
      " ATGGTGAGCAAGGGCGAGGAGGATAACATGGCCATCATCAAGGAGTTCATGCGCTTCAAGGTGCACATGGAGGGCTCCGTGAACGGCCACGAGTTCGAGATCGAGGGCGAGGGCGAGGGCCGCCCCTACGAGGGCACCCAGACCGCCAAGCTGAAGGTGACCAAGGGTGGCCCCCTGCCCTTCGCCTGGGACATCCTGTCCCCTCAGTTCATGTACGGCTCCAAGGCCTACGTGAAGCACCCCGCCGACATCCCCGACTACTTGAAGCTGTCCTTCCCCGAGGGCTTCAAGTGGGAGCGCGTGATGAACTTCGAGGACGGCGGCGTGGTGACCGTGACCCAGGACTCCTCCCTGCAGGACGGCGAGTTCATCTACAAGGTGAAGCTGCGCGGCACCAACTTCCCCTCCGACGGCCCCGTAATGCAGAAGAAGACGATGGGCTGGGAGGCCTCCTCCGAGCGGATGTACCCCGAGGACGGCGCCCTGAAGGGCGAGATCAAGCAGAGGCTGAAGCTGAAGGACGGCGGCCACTACGACGCTGAGGTCAAGACCACCTACAAGGCCAAGAAGCCCGTGCAGCTGCCCGGCGCCTACAACGTCAACATCAAGTTGGACATCACCTCCCACAACGAGGACTACACCATCGTGGAACAGTACGAACGCGCCGAGGGCCGCCACTCCACCGGCGGCATGGACGAGCTGTACAAGGTCGACAAGCTTGCGGCCGCACTCGAGTGA \n",
      "\n",
      "Modified Sequence:\n",
      " ATGGTGAGCAAGGGCGAGGAGGATAACATGGCCATCATCAAGGAGTTCATGCGCTTCAAGGTGCACATGGAGGGCTCCGTGAACGGCCACGAGTTCGAGATCGAGGGCGAGGGCGAGGGCCGCCCCTACGAGGGCACCCAGACCGCCAAGCTGAAGGTGACCAAGGGTGGCCCCCTGCCCTTCGCCTGGGACATCCTGTCCCCTCAGTTCATGTACGGCTCCAAGGCCTACGTGAAGCACCCCGCCGACATCCCCGACTACTTGAAGCTGTCCTTCCCCGAGGGCTTCAAGTGGGAGCGCGTGATGAACTTCGAGGACGGCGGCGTGGTGACCGTGACCCAGGACTCCTCCCTGCAGGACGGCGAGTTCATCTACAAGGTGAAGCTGCGCGGCACCAACTTCCCCTCCGACGGCCCCGTAATGCAGAAAAAGACGATGGGCTGGGAGGCCTCCTCCGAGCGGATGTACCCCGAGGACGGCGCCCTGAAGGGCGAGATCAAGCAGAGGCTGAAGCTGAAGGACGGCGGCCACTACGACGCTGAGGTCAAGACCACCTACAAGGCCAAGAAGCCCGTGCAGCTGCCCGGCGCCTACAACGTCAACATCAAGTTGGACATCACCTCCCACAACGAGGACTACACCATCGTGGAACAGTACGAACGCGCCGAGGGCCGCCACTCCACCGGCGGCATGGACGAGCTGTACAAGGTCGACAAGCTTGCGGCCGCACTCGAGTGA \n"
     ]
    }
   ],
   "source": [
    "primers<-mutate(input_sequence, prefix=prefix, \n",
    "                restriction_enzyme = recognition_site, \n",
    "                suffix = suffix, vector=vector, \n",
    "                replacements = mutations, binding_min_length=binding_min_length,\n",
    "                primer_length=primer_length, target_temp=target_temp, cuf=cuf)\n",
    "\n",
    "print_primer(primers)\n"
   ]
  },
  {
   "cell_type": "code",
   "execution_count": null,
   "metadata": {},
   "outputs": [],
   "source": []
  }
 ],
 "metadata": {
  "kernelspec": {
   "display_name": "R",
   "language": "R",
   "name": "ir"
  },
  "language_info": {
   "codemirror_mode": "r",
   "file_extension": ".r",
   "mimetype": "text/x-r-source",
   "name": "R",
   "pygments_lexer": "r",
   "version": "3.5.1"
  }
 },
 "nbformat": 4,
 "nbformat_minor": 2
}
