{
 "cells": [
  {
   "cell_type": "markdown",
   "metadata": {},
   "source": [
    "---\n",
    "title: \"Multiple Site Saturation Mutagenesis\"\n",
    "author: \"Chris Ulpinnis & Pascal Püllmann\"\n",
    "date: \"2018-09-10\"\n",
    "output:\n",
    "  word_document: default\n",
    "  md_document:\n",
    "    variant: markdown_github\n",
    "  pdf_document: default\n",
    "  html_document: default\n",
    "---\n",
    "\n",
    "\n",
    "\n",
    "# Multiple Site Saturation Mutagenesis -- Active site\n",
    "\n",
    "You can find the lastest version of this file at https://github.com/ipb-halle/GoldenMutagenesis/blob/master/vignettes/MSD.md\n",
    "\n",
    "\n",
    "## Experimental Workflow\n",
    "\n",
    "### Target sequence\n",
    "open reading frame YfeX in pCA24N (Chloramphenicol resistance)\n",
    "\n",
    "### Clone into\n",
    "seperate gene fragments into pAGM9121 first\\ then reassemble into pAGM22082_cRed\n",
    "\n",
    "\n",
    "### Genomic sequence YfeX\n",
    "\n",
    "ATGTCTCAGGTTCAGAGTGGCATTTTGCCAGAACATTGCCGCGCGGCGATTTGGATCGAAGCCAACGTGAAAGGGGAAGTTGACGCCCTGCGTGCGGCCAGTAAAACATTTGCCGACAAACTGGCAACTTTTGAAGCGAAATTCCCGGACGCGCATCTTGGTGCGGTGGTTGCCTTTGGTAACAACACCTGGCGCGCTCTGAGCGGCGGCGTTGGGGCAGAAGAGCTGAAAGATTTTCCGGGCTACGGTAAAGGCCTTGCGCCGACGACCCAGTTCGATGTGTTGATCCACATTCTTTCTCTGCGTCACGACGTAAACTTCTCTGTCGCCCAGGCGGCGATGGAAGCCTTTGGTGACTGCATTGAAGTGAAAGAAGAGATCCACGGCTTCCGTTGGGTTGAAGAGCGT**GAC**CTGAGCGGCTTTGTT**GAC**GGTACGGAA**AAC**CCGGCGGGTGAAGAGACGCGTCGCGAAGTGGCGGTTATCAAAGACGGCGTGGATGCGGGCGGCAGCTATGTGTTTGTCCAGCGTTGGGAACACAACCTGAAGCAGCTCAACCGGATGAGCGTTCACGATCAGGAGATGGTGATCGGGCGCACCAAAGAGGCCAACGAAGAGATCGACGGCGACGAACGTCCGGAAACCTCTCACCTCACCCGCGTTGATCTGAAAGAAGATGGCAAAGGGCTGAAGATTGTT**CGC**CAG**AGC**CTGCCGTACGGCACTGCCAGTGGCACTCACGGTCTGTACTTCTGCGCCTACTGCGCGCGTCTGCATAACATTGAGCAGCAACTGCTGAGCATGTTTGGCGATACCGATGGTAAGCGTGATGCGATGTTGCGTTTCACCAAACCGGTAACCGGCGGCTATTATTTCGCACCGTCGCTGGACAAGTTGATGGCGCTGTAA\n",
    "\n",
    "### Restriction Enzyme\n",
    "#### Level 0\n",
    "BbsI\n",
    "\n",
    "Recognition site: **_GAAGAC_**\n",
    "\n",
    "#### Level 2\n",
    "BsaI \n",
    "\n",
    "Recognition site: **_GGTCTC_**\n",
    "\n",
    "### Envisioned Mutations\n",
    "Aspartic Acid - 137\\\n",
    "Aspartic Acid - 143\\\n",
    "Asparagine - 147\\\n",
    "Arginine - 232\\\n",
    "Serine - 234\\\n",
    "\\\n",
    "Substitute for NDT\n",
    "\n",
    "## R Workflow"
   ]
  },
  {
   "cell_type": "code",
   "execution_count": null,
   "metadata": {},
   "outputs": [],
   "source": [
    "%%R\n",
    "library(\"GoldenMutagenesis\")"
   ]
  },
  {
   "cell_type": "code",
   "execution_count": null,
   "metadata": {},
   "outputs": [],
   "source": [
    "%%R\n",
    "input_sequence<-\"ATGTCTCAGGTTCAGAGTGGCATTTTGCCAGAACATTGCCGCGCGGCGATTTGGATCGAAGCCAACGTGAAAGGGGAAGTTGACGCCCTGCGTGCGGCCAGTAAAACATTTGCCGACAAACTGGCAACTTTTGAAGCGAAATTCCCGGACGCGCATCTTGGTGCGGTGGTTGCCTTTGGTAACAACACCTGGCGCGCTCTGAGCGGCGGCGTTGGGGCAGAAGAGCTGAAAGATTTTCCGGGCTACGGTAAAGGCCTTGCGCCGACGACCCAGTTCGATGTGTTGATCCACATTCTTTCTCTGCGTCACGACGTAAACTTCTCTGTCGCCCAGGCGGCGATGGAAGCCTTTGGTGACTGCATTGAAGTGAAAGAAGAGATCCACGGCTTCCGTTGGGTTGAAGAGCGTGACCTGAGCGGCTTTGTTGACGGTACGGAAAACCCGGCGGGTGAAGAGACGCGTCGCGAAGTGGCGGTTATCAAAGACGGCGTGGATGCGGGCGGCAGCTATGTGTTTGTCCAGCGTTGGGAACACAACCTGAAGCAGCTCAACCGGATGAGCGTTCACGATCAGGAGATGGTGATCGGGCGCACCAAAGAGGCCAACGAAGAGATCGACGGCGACGAACGTCCGGAAACCTCTCACCTCACCCGCGTTGATCTGAAAGAAGATGGCAAAGGGCTGAAGATTGTTCGCCAGAGCCTGCCGTACGGCACTGCCAGTGGCACTCACGGTCTGTACTTCTGCGCCTACTGCGCGCGTCTGCATAACATTGAGCAGCAACTGCTGAGCATGTTTGGCGATACCGATGGTAAGCGTGATGCGATGTTGCGTTTCACCAAACCGGTAACCGGCGGCTATTATTTCGCACCGTCGCTGGACAAGTTGATGGCGCTGTAA\"\n",
    "recognition_site_bbsi<-\"GAAGAC\"\n",
    "recognition_site_bsai<-\"GGTCTC\"\n",
    "cuf<-\"e_coli_316407.csv\""
   ]
  },
  {
   "cell_type": "markdown",
   "metadata": {},
   "source": [
    "The domesticate function checks for internal cleavage sites. If corresponding sites are present silent mutations are introduced to destroy the recognition sites. \n",
    "The functions returns a list containing the position of the choosen amino acid residue for silent mutation."
   ]
  },
  {
   "cell_type": "code",
   "execution_count": null,
   "metadata": {},
   "outputs": [],
   "source": [
    "%%R\n",
    "mutations_bbsi<-domesticate(input_sequence, recognition_site_bbsi, cuf=cuf)\n",
    "mutations_bbsi\n",
    "mutations_bsai<-domesticate(input_sequence, recognition_site_bsai, cuf=cuf)\n",
    "mutations_bsai"
   ]
  },
  {
   "cell_type": "markdown",
   "metadata": {},
   "source": [
    "The mutate_msd function designs the necessary set of primers for the desired mutations.\\ \n",
    "\\\n",
    "The function has the following parameters:\\\n",
    "**prefix**: Additional nucleobases in 5' position of the recognition site [default: TT]\\\n",
    "**restriction_enzym**: Recognition site sequence of the respective restriction enzyme [default: GGTCTC]\\\n",
    "**suffix**: Spacer nucleotides matching the cleavage pattern of the enzyme [default: A]\\\n",
    "**vector**: Four basepair overhangs complementary to the created overhangs in the acceptor vector  [default: c(\"AATG\", \"AAGC\")]\\\n",
    "**replacements**: The desired substitutions\\\n",
    "**primer_min_length**: The minimal threshold value of the template binding sequence in amino acid residues [default: 4]\\\n",
    "**primer_length**: Maximal length of the binding sequence [default: 9]\\\n",
    "**target_temp**: Melting temperature of the binding sequence in °C [default: 60]\\\n",
    "**replacement_range**: Maximum distance between two randomization sites to be incoporated into a single primer in amino acid residues [default: 5]\\\n",
    "**fragment_min_size**: Minimal size of a generated gene fragment in base pairs [default 100]\\\n",
    "\\\n",
    "It will return an object of the class Primerset.\\\n",
    "The primers for multiple site saturation mutagenesis have an additional slot called \"NDT\". This slot contains a non-binding region in which (the) NDT site(s) is/are located."
   ]
  },
  {
   "cell_type": "code",
   "execution_count": null,
   "metadata": {},
   "outputs": [],
   "source": [
    "%%R\n",
    "#If domestication is necessary follow the workflow of the Point Mutagenesis vignette\n",
    "mutations<-c(137,143,147,232,234)\n",
    "primers<-msd_mutate(input_sequence, prefix=\"TT\" ,restriction_enzyme=recognition_site_bsai, suffix=\"A\", vector=c(\"AATG\", \"AAGC\"), replacements=mutations, replacement_range=5, binding_min_length=4 ,primer_length=9, target_temp=60, fragment_min_size=60 )\n",
    "primers"
   ]
  },
  {
   "cell_type": "markdown",
   "metadata": {},
   "source": [
    "The primers are generated for direct cloning into the Level 2 vector.\\\n",
    "The function primer_add_level modifies the primers for individual cloning into Level 0 vectors and subsequent assembly in Level 2.\\\n",
    "The parameters **prefix, restriction_enzyme, suffix and vector** can be set similar to the mutate-function."
   ]
  },
  {
   "cell_type": "code",
   "execution_count": null,
   "metadata": {},
   "outputs": [],
   "source": [
    "%%R\n",
    "primers_lvl0<-primer_add_level(primers,  prefix=\"TT\", restriction_enzyme=recognition_site_bbsi, suffix=\"AA\", vector=c(\"CTCA\", \"CTCG\"))\n",
    "primers_lvl0"
   ]
  },
  {
   "cell_type": "markdown",
   "metadata": {},
   "source": [
    "Objects of the classes \"Primer\", \"Primer MSD\" and \"Primerset\" can have a slim textual output by using the function print_primer."
   ]
  },
  {
   "cell_type": "code",
   "execution_count": null,
   "metadata": {},
   "outputs": [],
   "source": [
    "%%R\n",
    "print_primer(primers_lvl0)"
   ]
  },
  {
   "cell_type": "markdown",
   "metadata": {},
   "source": [
    "The textual output can be printed into a file."
   ]
  },
  {
   "cell_type": "code",
   "execution_count": null,
   "metadata": {},
   "outputs": [],
   "source": [
    "%%R\n",
    "sink(\"primers.txt\", append=FALSE, split=FALSE)\n",
    "print_primer(primers_lvl0)\n",
    "sink()"
   ]
  }
 ],
 "metadata": {},
 "nbformat": 4,
 "nbformat_minor": 2
}
