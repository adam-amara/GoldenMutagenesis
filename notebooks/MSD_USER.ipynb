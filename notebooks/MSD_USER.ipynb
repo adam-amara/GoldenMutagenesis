{
 "cells": [
  {
   "cell_type": "markdown",
   "metadata": {},
   "source": [
    "# Multiple Site Saturation Mutagenesis - User Notebook\n",
    "\n",
    "In this notebook you can enter your own data to calculate primers.\n",
    "\n",
    "## Setting up R"
   ]
  },
  {
   "cell_type": "code",
   "execution_count": 1,
   "metadata": {},
   "outputs": [
    {
     "name": "stderr",
     "output_type": "stream",
     "text": [
      "Loading required package: seqinr\n",
      "Loading required package: stringr\n"
     ]
    }
   ],
   "source": [
    "library(\"GoldenMutagenesis\")"
   ]
  },
  {
   "cell_type": "markdown",
   "metadata": {},
   "source": [
    "## Setting up your data & parameters\n",
    "Please modify this section according to your data.\n",
    "### Input Sequence"
   ]
  },
  {
   "cell_type": "code",
   "execution_count": 2,
   "metadata": {},
   "outputs": [],
   "source": [
    "input_sequence<-\"ATGTCTCAGGTTCAGAGTGGCATTTTGCCAGAACATTGCCGCGCGGCGATTTGGATCGAAGCCAACGTGAAAGGGGAAGTTGACGCCCTGCGTGCGGCCAGTAAAACATTTGCCGACAAACTGGCAACTTTTGAAGCGAAATTCCCGGACGCGCATCTTGGTGCGGTGGTTGCCTTTGGTAACAACACCTGGCGCGCTCTGAGCGGCGGCGTTGGGGCAGAAGAGCTGAAAGATTTTCCGGGCTACGGTAAAGGCCTTGCGCCGACGACCCAGTTCGATGTGTTGATCCACATTCTTTCTCTGCGTCACGACGTAAACTTCTCTGTCGCCCAGGCGGCGATGGAAGCCTTTGGTGACTGCATTGAAGTGAAAGAAGAGATCCACGGCTTCCGTTGGGTTGAAGAGCGTGACCTGAGCGGCTTTGTTGACGGTACGGAAAACCCGGCGGGTGAAGAGACGCGTCGCGAAGTGGCGGTTATCAAAGACGGCGTGGATGCGGGCGGCAGCTATGTGTTTGTCCAGCGTTGGGAACACAACCTGAAGCAGCTCAACCGGATGAGCGTTCACGATCAGGAGATGGTGATCGGGCGCACCAAAGAGGCCAACGAAGAGATCGACGGCGACGAACGTCCGGAAACCTCTCACCTCACCCGCGTTGATCTGAAAGAAGATGGCAAAGGGCTGAAGATTGTTCGCCAGAGCCTGCCGTACGGCACTGCCAGTGGCACTCACGGTCTGTACTTCTGCGCCTACTGCGCGCGTCTGCATAACATTGAGCAGCAACTGCTGAGCATGTTTGGCGATACCGATGGTAAGCGTGATGCGATGTTGCGTTTCACCAAACCGGTAACCGGCGGCTATTATTTCGCACCGTCGCTGGACAAGTTGATGGCGCTGTAA\""
   ]
  },
  {
   "cell_type": "markdown",
   "metadata": {},
   "source": [
    "### Envisioned Mutations"
   ]
  },
  {
   "cell_type": "code",
   "execution_count": 3,
   "metadata": {},
   "outputs": [],
   "source": [
    "mutations<-c(137,143,147,232,234)\n",
    "codon<-\"NDT\"\n",
    "cuf<-\"e_coli_316407.csv\" #The Codon Usage Table which is used in the calculations"
   ]
  },
  {
   "cell_type": "markdown",
   "metadata": {},
   "source": [
    "#### Available Codon Usage Tables"
   ]
  },
  {
   "cell_type": "code",
   "execution_count": 4,
   "metadata": {},
   "outputs": [
    {
     "data": {
      "text/html": [
       "<ol class=list-inline>\n",
       "\t<li>'arabidopsis.csv'</li>\n",
       "\t<li>'e_coli_316407.csv'</li>\n",
       "\t<li>'s_cerevisiae_4932.csv'</li>\n",
       "</ol>\n"
      ],
      "text/latex": [
       "\\begin{enumerate*}\n",
       "\\item 'arabidopsis.csv'\n",
       "\\item 'e\\_coli\\_316407.csv'\n",
       "\\item 's\\_cerevisiae\\_4932.csv'\n",
       "\\end{enumerate*}\n"
      ],
      "text/markdown": [
       "1. 'arabidopsis.csv'\n",
       "2. 'e_coli_316407.csv'\n",
       "3. 's_cerevisiae_4932.csv'\n",
       "\n",
       "\n"
      ],
      "text/plain": [
       "[1] \"arabidopsis.csv\"       \"e_coli_316407.csv\"     \"s_cerevisiae_4932.csv\""
      ]
     },
     "metadata": {},
     "output_type": "display_data"
    }
   ],
   "source": [
    "list_cu_table()"
   ]
  },
  {
   "cell_type": "markdown",
   "metadata": {},
   "source": [
    "### Further Parameters"
   ]
  },
  {
   "cell_type": "code",
   "execution_count": 5,
   "metadata": {},
   "outputs": [],
   "source": [
    "calculate_level0<-T #Do you want to calculate primers in Level0?\n",
    "#If you want to calcultate primers for Level2 only, enter calculate_level0<-F\n",
    "#You can ignore the Level 0 parameters below in this case\n",
    "\n",
    "############################\n",
    "#####Level 2 parameters#####\n",
    "###########################\n",
    "\n",
    "#If you do not know how to set those parameters, just take the default value\n",
    "recognition_site_lvl2<-\"GGTCTC\" #Recognition site sequence of the respective restriction enzyme\n",
    "prefix=\"TT\" #Spacer nucleotides matching the cleavage pattern of the enzyme\n",
    "suffix=\"A\" #Spacer nucleotides matching the cleavage pattern of the enzyme\n",
    "vector=c(\"AATG\", \"AAGC\") #Four basepair overhangs complementary to the created overhangs in the acceptor vector\n",
    "replacement_range=5 #Maximum distance between two randomization sites to be incoporated into a single primer in amino acid residues\n",
    "binding_min_length=4 #The minimal threshold value of the template binding sequence in amino acid residues\n",
    "binding_max_length=9 #Maximal length of the binding sequence\n",
    "target_temp=60 #Melting temperature of the binding sequence in °C\n",
    "fragment_min_size=60 #Minimal size of a generated gene fragment in base pairs\n",
    "\n",
    "############################\n",
    "#####Level 0 parameters#####\n",
    "###########################\n",
    "recognition_site_lvl0<-\"GAAGAC\"\n",
    "prefix_lvl0=\"TT\"\n",
    "suffix_lvl0=\"AA\"\n",
    "vector_lvl0=c(\"CTCA\", \"CTCG\")\n"
   ]
  },
  {
   "cell_type": "markdown",
   "metadata": {},
   "source": [
    "## Running the calculation\n",
    "This chunk will create the output with the necessary primerset for you. "
   ]
  },
  {
   "cell_type": "markdown",
   "metadata": {},
   "source": [
    "### Domestication\n",
    "This cell will calculate the primers for the domestication. Those are singe point mutations."
   ]
  },
  {
   "cell_type": "code",
   "execution_count": 6,
   "metadata": {},
   "outputs": [
    {
     "name": "stdout",
     "output_type": "stream",
     "text": [
      "[1] \"No domestication needed.\"\n",
      "[1] \"No domestication needed.\"\n"
     ]
    }
   ],
   "source": [
    "domest_mutations<-domesticate(input_sequence, recognition_site_lvl2 , cuf=cuf)\n",
    "domest_mutations<-c(domest_mutations, domesticate(input_sequence, recognition_site_lvl0 , cuf=cuf))\n",
    "if(length(domest_mutations) != 0) {\n",
    "    domest_primerset<-mutate(input_sequence, replacements=domest_mutations, cuf=cuf)\n",
    "    input_sequence<-domest_primerset@newsequence\n",
    "    print_primer(primerset)\n",
    "} "
   ]
  },
  {
   "cell_type": "markdown",
   "metadata": {},
   "source": [
    "### NDT Mutagenesis\n",
    "This cell will calculate the primers for the Multiple Site Saturation Mutagenesis."
   ]
  },
  {
   "cell_type": "code",
   "execution_count": 7,
   "metadata": {},
   "outputs": [
    {
     "name": "stdout",
     "output_type": "stream",
     "text": [
      "Fragment 1\n",
      "Start 2, Stop 142, Length 141\n",
      "Forward\n",
      "TTGAAGACAACTCAAATGTCTCAGGTTCAGAGTGGCATTTTGCC\n",
      "Temperature of binding site:  60.36446  °C \n",
      "Temperature difference:  0.3644563  K \n",
      "Reverse\n",
      "TTGAAGACAACTCGACAAAGCCGCTCAGAHNACGCTCTTCAACCCAACGGAAGC\n",
      "Temperature of binding site:  59.785  °C \n",
      "Temperature difference:  0.5794564  K \n",
      "\n",
      "Fragment 2\n",
      "Start 143, Stop 231, Length 89\n",
      "Forward\n",
      "TTGAAGACAACTCATTGTTNDTGGTACGGAANDTCCGGCGGGTGAAGAGACGC\n",
      "Temperature of binding site:  59.2169  °C \n",
      "Temperature difference:  0.7831005  K \n",
      "Reverse\n",
      "TTGAAGACAACTCGAACAATCTTCAGCCCTTTGCCATCTTCTTT\n",
      "Temperature of binding site:  59.04605  °C \n",
      "Temperature difference:  0.1708527  K \n",
      "\n",
      "Fragment 3\n",
      "Start 232, Stop 300, Length 69\n",
      "Forward\n",
      "TTGAAGACAACTCATGTTNDTCAGNDTCTGCCGTACGGCACTGCCAG\n",
      "Temperature of binding site:  60.52991  °C \n",
      "Temperature difference:  0.5299114  K \n",
      "Reverse\n",
      "TTGAAGACAACTCGAAGCTTACAGCGCCATCAACTTGTCCAGC\n",
      "Temperature of binding site:  60.90327  °C \n",
      "Temperature difference:  0.3733614  K \n",
      "\n",
      "Input Sequence:\n",
      " ATGTCTCAGGTTCAGAGTGGCATTTTGCCAGAACATTGCCGCGCGGCGATTTGGATCGAAGCCAACGTGAAAGGGGAAGTTGACGCCCTGCGTGCGGCCAGTAAAACATTTGCCGACAAACTGGCAACTTTTGAAGCGAAATTCCCGGACGCGCATCTTGGTGCGGTGGTTGCCTTTGGTAACAACACCTGGCGCGCTCTGAGCGGCGGCGTTGGGGCAGAAGAGCTGAAAGATTTTCCGGGCTACGGTAAAGGCCTTGCGCCGACGACCCAGTTCGATGTGTTGATCCACATTCTTTCTCTGCGTCACGACGTAAACTTCTCTGTCGCCCAGGCGGCGATGGAAGCCTTTGGTGACTGCATTGAAGTGAAAGAAGAGATCCACGGCTTCCGTTGGGTTGAAGAGCGTGACCTGAGCGGCTTTGTTGACGGTACGGAAAACCCGGCGGGTGAAGAGACGCGTCGCGAAGTGGCGGTTATCAAAGACGGCGTGGATGCGGGCGGCAGCTATGTGTTTGTCCAGCGTTGGGAACACAACCTGAAGCAGCTCAACCGGATGAGCGTTCACGATCAGGAGATGGTGATCGGGCGCACCAAAGAGGCCAACGAAGAGATCGACGGCGACGAACGTCCGGAAACCTCTCACCTCACCCGCGTTGATCTGAAAGAAGATGGCAAAGGGCTGAAGATTGTTCGCCAGAGCCTGCCGTACGGCACTGCCAGTGGCACTCACGGTCTGTACTTCTGCGCCTACTGCGCGCGTCTGCATAACATTGAGCAGCAACTGCTGAGCATGTTTGGCGATACCGATGGTAAGCGTGATGCGATGTTGCGTTTCACCAAACCGGTAACCGGCGGCTATTATTTCGCACCGTCGCTGGACAAGTTGATGGCGCTGTAA \n",
      "\n",
      "Modified Sequence:\n",
      " ATGTCTCAGGTTCAGAGTGGCATTTTGCCAGAACATTGCCGCGCGGCGATTTGGATCGAAGCCAACGTGAAAGGGGAAGTTGACGCCCTGCGTGCGGCCAGTAAAACATTTGCCGACAAACTGGCAACTTTTGAAGCGAAATTCCCGGACGCGCATCTTGGTGCGGTGGTTGCCTTTGGTAACAACACCTGGCGCGCTCTGAGCGGCGGCGTTGGGGCAGAAGAGCTGAAAGATTTTCCGGGCTACGGTAAAGGCCTTGCGCCGACGACCCAGTTCGATGTGTTGATCCACATTCTTTCTCTGCGTCACGACGTAAACTTCTCTGTCGCCCAGGCGGCGATGGAAGCCTTTGGTGACTGCATTGAAGTGAAAGAAGAGATCCACGGCTTCCGTTGGGTTGAAGAGCGTNDTCTGAGCGGCTTTGTTNDTGGTACGGAANDTCCGGCGGGTGAAGAGACGCGTCGCGAAGTGGCGGTTATCAAAGACGGCGTGGATGCGGGCGGCAGCTATGTGTTTGTCCAGCGTTGGGAACACAACCTGAAGCAGCTCAACCGGATGAGCGTTCACGATCAGGAGATGGTGATCGGGCGCACCAAAGAGGCCAACGAAGAGATCGACGGCGACGAACGTCCGGAAACCTCTCACCTCACCCGCGTTGATCTGAAAGAAGATGGCAAAGGGCTGAAGATTGTTNDTCAGNDTCTGCCGTACGGCACTGCCAGTGGCACTCACGGTCTGTACTTCTGCGCCTACTGCGCGCGTCTGCATAACATTGAGCAGCAACTGCTGAGCATGTTTGGCGATACCGATGGTAAGCGTGATGCGATGTTGCGTTTCACCAAACCGGTAACCGGCGGCTATTATTTCGCACCGTCGCTGGACAAGTTGATGGCGCTGTAA \n"
     ]
    }
   ],
   "source": [
    "primers<-msd_mutate(input_sequence, prefix=prefix ,\n",
    "                    restriction_enzyme=recognition_site_lvl2, suffix=suffix, \n",
    "                    vector=vector, replacements=mutations, \n",
    "                    replacement_range=replacement_range, \n",
    "                    binding_min_length=binding_min_length,\n",
    "                    binding_max_length=binding_max_length, \n",
    "                    target_temp=target_temp, \n",
    "                    fragment_min_size=fragment_min_size )\n",
    "if(calculate_level0==T) {\n",
    "    primers<-primer_add_level(primers,  prefix=prefix_lvl0, \n",
    "                                   restriction_enzyme=recognition_site_lvl0,\n",
    "                                   suffix=suffix_lvl0, vector=vector_lvl0)\n",
    "}\n",
    "print_primer(primers)\n"
   ]
  },
  {
   "cell_type": "code",
   "execution_count": null,
   "metadata": {},
   "outputs": [],
   "source": []
  }
 ],
 "metadata": {
  "kernelspec": {
   "display_name": "R",
   "language": "R",
   "name": "ir"
  },
  "language_info": {
   "codemirror_mode": "r",
   "file_extension": ".r",
   "mimetype": "text/x-r-source",
   "name": "R",
   "pygments_lexer": "r",
   "version": "3.5.1"
  }
 },
 "nbformat": 4,
 "nbformat_minor": 2
}
