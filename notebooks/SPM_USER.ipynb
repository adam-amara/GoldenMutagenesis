{
 "cells": [
  {
   "cell_type": "markdown",
   "metadata": {},
   "source": [
    "# Single Point Mutagenesis - User Notebook\n",
    "\n",
    "In this notebook you can enter your own data to calculate primers.\n",
    "\n",
    "## Setting up R"
   ]
  },
  {
   "cell_type": "code",
   "execution_count": 1,
   "metadata": {
    "scrolled": true
   },
   "outputs": [
    {
     "name": "stderr",
     "output_type": "stream",
     "text": [
      "Loading required package: seqinr\n",
      "Loading required package: stringr\n",
      "Loading required package: dplyr\n",
      "\n",
      "Attaching package: ‘dplyr’\n",
      "\n",
      "The following object is masked from ‘package:seqinr’:\n",
      "\n",
      "    count\n",
      "\n",
      "The following objects are masked from ‘package:stats’:\n",
      "\n",
      "    filter, lag\n",
      "\n",
      "The following objects are masked from ‘package:base’:\n",
      "\n",
      "    intersect, setdiff, setequal, union\n",
      "\n",
      "Loading required package: sangerseqR\n",
      "Loading required package: Biostrings\n",
      "Loading required package: BiocGenerics\n",
      "Loading required package: parallel\n",
      "\n",
      "Attaching package: ‘BiocGenerics’\n",
      "\n",
      "The following objects are masked from ‘package:parallel’:\n",
      "\n",
      "    clusterApply, clusterApplyLB, clusterCall, clusterEvalQ,\n",
      "    clusterExport, clusterMap, parApply, parCapply, parLapply,\n",
      "    parLapplyLB, parRapply, parSapply, parSapplyLB\n",
      "\n",
      "The following objects are masked from ‘package:dplyr’:\n",
      "\n",
      "    combine, intersect, setdiff, union\n",
      "\n",
      "The following objects are masked from ‘package:stats’:\n",
      "\n",
      "    IQR, mad, sd, var, xtabs\n",
      "\n",
      "The following objects are masked from ‘package:base’:\n",
      "\n",
      "    anyDuplicated, append, as.data.frame, basename, cbind, colMeans,\n",
      "    colnames, colSums, dirname, do.call, duplicated, eval, evalq,\n",
      "    Filter, Find, get, grep, grepl, intersect, is.unsorted, lapply,\n",
      "    lengths, Map, mapply, match, mget, order, paste, pmax, pmax.int,\n",
      "    pmin, pmin.int, Position, rank, rbind, Reduce, rowMeans, rownames,\n",
      "    rowSums, sapply, setdiff, sort, table, tapply, union, unique,\n",
      "    unsplit, which, which.max, which.min\n",
      "\n",
      "Loading required package: S4Vectors\n",
      "Loading required package: stats4\n",
      "\n",
      "Attaching package: ‘S4Vectors’\n",
      "\n",
      "The following objects are masked from ‘package:dplyr’:\n",
      "\n",
      "    first, rename\n",
      "\n",
      "The following object is masked from ‘package:base’:\n",
      "\n",
      "    expand.grid\n",
      "\n",
      "Loading required package: IRanges\n",
      "\n",
      "Attaching package: ‘IRanges’\n",
      "\n",
      "The following objects are masked from ‘package:dplyr’:\n",
      "\n",
      "    collapse, desc, slice\n",
      "\n",
      "Loading required package: XVector\n",
      "\n",
      "Attaching package: ‘Biostrings’\n",
      "\n",
      "The following object is masked from ‘package:seqinr’:\n",
      "\n",
      "    translate\n",
      "\n",
      "The following object is masked from ‘package:base’:\n",
      "\n",
      "    strsplit\n",
      "\n",
      "\n",
      "Attaching package: ‘sangerseqR’\n",
      "\n",
      "The following object is masked from ‘package:seqinr’:\n",
      "\n",
      "    read.abif\n",
      "\n",
      "Loading required package: RColorBrewer\n",
      "Warning message:\n",
      "“replacing previous import ‘Biostrings::translate’ by ‘seqinr::translate’ when loading ‘GoldenMutagenesis’”Warning message:\n",
      "“replacing previous import ‘sangerseqR::read.abif’ by ‘seqinr::read.abif’ when loading ‘GoldenMutagenesis’”\n",
      "Attaching package: ‘GoldenMutagenesis’\n",
      "\n",
      "The following object is masked from ‘package:dplyr’:\n",
      "\n",
      "    mutate\n",
      "\n"
     ]
    }
   ],
   "source": [
    "library(\"GoldenMutagenesis\")"
   ]
  },
  {
   "cell_type": "markdown",
   "metadata": {},
   "source": [
    "## Setting up your data & parameters\n",
    "Please modify this section according to your data.\n",
    "### Input Sequence"
   ]
  },
  {
   "cell_type": "code",
   "execution_count": 2,
   "metadata": {},
   "outputs": [],
   "source": [
    "input_sequence<-\"ATGGTGAGCAAGGGCGAGGAGGATAACATGGCCATCATCAAGGAGTTCATGCGCTTCAAGGTGCACATGGAGGGCTCCGTGAACGGCCACGAGTTCGAGATCGAGGGCGAGGGCGAGGGCCGCCCCTACGAGGGCACCCAGACCGCCAAGCTGAAGGTGACCAAGGGTGGCCCCCTGCCCTTCGCCTGGGACATCCTGTCCCCTCAGTTCATGTACGGCTCCAAGGCCTACGTGAAGCACCCCGCCGACATCCCCGACTACTTGAAGCTGTCCTTCCCCGAGGGCTTCAAGTGGGAGCGCGTGATGAACTTCGAGGACGGCGGCGTGGTGACCGTGACCCAGGACTCCTCCCTGCAGGACGGCGAGTTCATCTACAAGGTGAAGCTGCGCGGCACCAACTTCCCCTCCGACGGCCCCGTAATGCAGAAGAAGACGATGGGCTGGGAGGCCTCCTCCGAGCGGATGTACCCCGAGGACGGCGCCCTGAAGGGCGAGATCAAGCAGAGGCTGAAGCTGAAGGACGGCGGCCACTACGACGCTGAGGTCAAGACCACCTACAAGGCCAAGAAGCCCGTGCAGCTGCCCGGCGCCTACAACGTCAACATCAAGTTGGACATCACCTCCCACAACGAGGACTACACCATCGTGGAACAGTACGAACGCGCCGAGGGCCGCCACTCCACCGGCGGCATGGACGAGCTGTACAAGGTCGACAAGCTTGCGGCCGCACTCGAGTGA\""
   ]
  },
  {
   "cell_type": "markdown",
   "metadata": {},
   "source": [
    "### Envisioned Mutations"
   ]
  },
  {
   "cell_type": "code",
   "execution_count": 3,
   "metadata": {},
   "outputs": [],
   "source": [
    "mutations<-c(66, \"V\")\n",
    "cuf<-\"e_coli_316407.csv\" #The Codon Usage Table which is used in the calculations\n",
    "recognition_site_bbsi<-\"GAAGAC\"\n",
    "recognition_site_bsai<-\"GGTCTC\""
   ]
  },
  {
   "cell_type": "markdown",
   "metadata": {},
   "source": [
    "#### Available Codon Usage Tables"
   ]
  },
  {
   "cell_type": "code",
   "execution_count": 4,
   "metadata": {},
   "outputs": [
    {
     "data": {
      "text/html": [
       "<ol class=list-inline>\n",
       "\t<li>'arabidopsis.csv'</li>\n",
       "\t<li>'e_coli_316407.csv'</li>\n",
       "\t<li>'s_cerevisiae_4932.csv'</li>\n",
       "</ol>\n"
      ],
      "text/latex": [
       "\\begin{enumerate*}\n",
       "\\item 'arabidopsis.csv'\n",
       "\\item 'e\\_coli\\_316407.csv'\n",
       "\\item 's\\_cerevisiae\\_4932.csv'\n",
       "\\end{enumerate*}\n"
      ],
      "text/markdown": [
       "1. 'arabidopsis.csv'\n",
       "2. 'e_coli_316407.csv'\n",
       "3. 's_cerevisiae_4932.csv'\n",
       "\n",
       "\n"
      ],
      "text/plain": [
       "[1] \"arabidopsis.csv\"       \"e_coli_316407.csv\"     \"s_cerevisiae_4932.csv\""
      ]
     },
     "metadata": {},
     "output_type": "display_data"
    }
   ],
   "source": [
    "list_cu_table()"
   ]
  },
  {
   "cell_type": "markdown",
   "metadata": {},
   "source": [
    "### Further Parameters"
   ]
  },
  {
   "cell_type": "code",
   "execution_count": 5,
   "metadata": {},
   "outputs": [],
   "source": [
    "############################\n",
    "#####Parameters#####\n",
    "###########################\n",
    "\n",
    "#If you do not know how to set those parameters, just take the default value\n",
    "recognition_site<-recognition_site_bbsi #Recognition site sequence of the respective restriction enzyme\n",
    "prefix=\"TT\" #Spacer nucleotides matching the cleavage pattern of the enzyme\n",
    "suffix=\"AA\" #Spacer nucleotides matching the cleavage pattern of the enzyme\n",
    "vector=c(\"CTCA\", \"CTCG\") #Four basepair overhangs complementary to the created overhangs in the acceptor vector\n",
    "replacement_range=5 #Maximum distance between two randomization sites to be incoporated into a single primer in amino acid residues\n",
    "binding_min_length=4 #The minimal threshold value of the template binding sequence in amino acid residues\n",
    "primer_length=9 #Maximal length of the binding sequence\n",
    "target_temp=60 #Melting temperature of the binding sequence in °C\n"
   ]
  },
  {
   "cell_type": "markdown",
   "metadata": {},
   "source": [
    "## Running the calculation\n",
    "This chunk will create the output with the necessary primerset for you. "
   ]
  },
  {
   "cell_type": "markdown",
   "metadata": {},
   "source": [
    "### Domestication\n",
    "This cell will calculate the primers for the domestication. Those are singe point mutations."
   ]
  },
  {
   "cell_type": "code",
   "execution_count": 6,
   "metadata": {},
   "outputs": [
    {
     "name": "stdout",
     "output_type": "stream",
     "text": [
      "[1] \"No domestication needed.\"\n"
     ]
    },
    {
     "data": {
      "text/html": [
       "<ol>\n",
       "\t<li><ol class=list-inline>\n",
       "\t<li>'66'</li>\n",
       "\t<li>'V'</li>\n",
       "</ol>\n",
       "</li>\n",
       "\t<li><ol class=list-inline>\n",
       "\t<li>'143'</li>\n",
       "\t<li>'K'</li>\n",
       "</ol>\n",
       "</li>\n",
       "</ol>\n"
      ],
      "text/latex": [
       "\\begin{enumerate}\n",
       "\\item \\begin{enumerate*}\n",
       "\\item '66'\n",
       "\\item 'V'\n",
       "\\end{enumerate*}\n",
       "\n",
       "\\item \\begin{enumerate*}\n",
       "\\item '143'\n",
       "\\item 'K'\n",
       "\\end{enumerate*}\n",
       "\n",
       "\\end{enumerate}\n"
      ],
      "text/markdown": [
       "1. 1. '66'\n",
       "2. 'V'\n",
       "\n",
       "\n",
       "\n",
       "2. 1. '143'\n",
       "2. 'K'\n",
       "\n",
       "\n",
       "\n",
       "\n",
       "\n"
      ],
      "text/plain": [
       "[[1]]\n",
       "[1] \"66\" \"V\" \n",
       "\n",
       "[[2]]\n",
       "[1] \"143\" \"K\"  \n"
      ]
     },
     "metadata": {},
     "output_type": "display_data"
    }
   ],
   "source": [
    "mutations_bbsi<-domesticate(input_sequence, recognition_site_bbsi, cuf)\n",
    "mutations_bsai<-domesticate(input_sequence, recognition_site_bsai, cuf)\n",
    "mutations<-c(mutations, mutations_bbsi, mutations_bsai)\n",
    "mutations<-c(list(c(66, \"V\")), mutations_bbsi, mutations_bsai)\n",
    "mutations"
   ]
  },
  {
   "cell_type": "markdown",
   "metadata": {},
   "source": [
    "### NDT Mutagenesis\n",
    "This cell will calculate the primers for the Multiple Site Saturation Mutagenesis."
   ]
  },
  {
   "cell_type": "code",
   "execution_count": 7,
   "metadata": {},
   "outputs": [
    {
     "name": "stdout",
     "output_type": "stream",
     "text": [
      "Fragment 1\n",
      "Forward\n",
      "TTGAAGACAACTCAATGGTGAGCAAGGGCGAGGAGG\n",
      "Temperature of binding site:  60.67248  °C \n",
      "Temperature difference:  0.6724812  K \n",
      "Reverse\n",
      "TTGAAGACAACACGATGTCCCAGGCGAAGGGCAGGG\n",
      "Temperature of binding site:  61.41454  °C \n",
      "Temperature difference:  0.7420589  K \n",
      "\n",
      "Fragment 2\n",
      "Forward\n",
      "TTGAAGACAACGTGTCCCCTCAGTTCATGTACGGCTCC\n",
      "Temperature of binding site:  59.45263  °C \n",
      "Temperature difference:  0.5473745  K \n",
      "Reverse\n",
      "TTGAAGACAATTTCTGCATTACGGGGCCGTCGGA\n",
      "Temperature of binding site:  58.9345  °C \n",
      "Temperature difference:  0.5181218  K \n",
      "\n",
      "Fragment 3\n",
      "Forward\n",
      "TTGAAGACAAGAAAAAGACGATGGGCTGGGAGGCC\n",
      "Temperature of binding site:  59.2929  °C \n",
      "Temperature difference:  0.7071014  K \n",
      "Reverse\n",
      "TTGAAGACAACTCGTCACTCGAGTGCGGCCGC\n",
      "Temperature of binding site:  59.15354  °C \n",
      "Temperature difference:  0.1393632  K \n",
      "\n",
      "Input Sequence:\n",
      " ATGGTGAGCAAGGGCGAGGAGGATAACATGGCCATCATCAAGGAGTTCATGCGCTTCAAGGTGCACATGGAGGGCTCCGTGAACGGCCACGAGTTCGAGATCGAGGGCGAGGGCGAGGGCCGCCCCTACGAGGGCACCCAGACCGCCAAGCTGAAGGTGACCAAGGGTGGCCCCCTGCCCTTCGCCTGGGACATCCTGTCCCCTCAGTTCATGTACGGCTCCAAGGCCTACGTGAAGCACCCCGCCGACATCCCCGACTACTTGAAGCTGTCCTTCCCCGAGGGCTTCAAGTGGGAGCGCGTGATGAACTTCGAGGACGGCGGCGTGGTGACCGTGACCCAGGACTCCTCCCTGCAGGACGGCGAGTTCATCTACAAGGTGAAGCTGCGCGGCACCAACTTCCCCTCCGACGGCCCCGTAATGCAGAAGAAGACGATGGGCTGGGAGGCCTCCTCCGAGCGGATGTACCCCGAGGACGGCGCCCTGAAGGGCGAGATCAAGCAGAGGCTGAAGCTGAAGGACGGCGGCCACTACGACGCTGAGGTCAAGACCACCTACAAGGCCAAGAAGCCCGTGCAGCTGCCCGGCGCCTACAACGTCAACATCAAGTTGGACATCACCTCCCACAACGAGGACTACACCATCGTGGAACAGTACGAACGCGCCGAGGGCCGCCACTCCACCGGCGGCATGGACGAGCTGTACAAGGTCGACAAGCTTGCGGCCGCACTCGAGTGA \n",
      "\n",
      "Modified Sequence:\n",
      " ATGGTGAGCAAGGGCGAGGAGGATAACATGGCCATCATCAAGGAGTTCATGCGCTTCAAGGTGCACATGGAGGGCTCCGTGAACGGCCACGAGTTCGAGATCGAGGGCGAGGGCGAGGGCCGCCCCTACGAGGGCACCCAGACCGCCAAGCTGAAGGTGACCAAGGGTGGCCCCCTGCCCTTCGCCTGGGACATCGTGTCCCCTCAGTTCATGTACGGCTCCAAGGCCTACGTGAAGCACCCCGCCGACATCCCCGACTACTTGAAGCTGTCCTTCCCCGAGGGCTTCAAGTGGGAGCGCGTGATGAACTTCGAGGACGGCGGCGTGGTGACCGTGACCCAGGACTCCTCCCTGCAGGACGGCGAGTTCATCTACAAGGTGAAGCTGCGCGGCACCAACTTCCCCTCCGACGGCCCCGTAATGCAGAAAAAGACGATGGGCTGGGAGGCCTCCTCCGAGCGGATGTACCCCGAGGACGGCGCCCTGAAGGGCGAGATCAAGCAGAGGCTGAAGCTGAAGGACGGCGGCCACTACGACGCTGAGGTCAAGACCACCTACAAGGCCAAGAAGCCCGTGCAGCTGCCCGGCGCCTACAACGTCAACATCAAGTTGGACATCACCTCCCACAACGAGGACTACACCATCGTGGAACAGTACGAACGCGCCGAGGGCCGCCACTCCACCGGCGGCATGGACGAGCTGTACAAGGTCGACAAGCTTGCGGCCGCACTCGAGTGA \n"
     ]
    }
   ],
   "source": [
    "primers<-mutate(input_sequence, prefix=prefix, \n",
    "                restriction_enzyme = recognition_site, \n",
    "                suffix = suffix, vector=vector, \n",
    "                replacements = mutations, binding_min_length=binding_min_length,\n",
    "                primer_length=primer_length, target_temp=target_temp, cuf=cuf)\n",
    "\n",
    "print_primer(primers)\n"
   ]
  },
  {
   "cell_type": "code",
   "execution_count": null,
   "metadata": {},
   "outputs": [],
   "source": []
  }
 ],
 "metadata": {
  "kernelspec": {
   "display_name": "R",
   "language": "R",
   "name": "ir"
  },
  "language_info": {
   "codemirror_mode": "r",
   "file_extension": ".r",
   "mimetype": "text/x-r-source",
   "name": "R",
   "pygments_lexer": "r",
   "version": "3.5.1"
  }
 },
 "nbformat": 4,
 "nbformat_minor": 2
}
